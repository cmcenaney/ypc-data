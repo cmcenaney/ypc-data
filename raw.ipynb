{
 "cells": [
  {
   "cell_type": "code",
   "execution_count": 301,
   "metadata": {},
   "outputs": [],
   "source": [
    "import xlrd\n",
    "import pandas as pd\n",
    "import numpy as np\n",
    "import json"
   ]
  },
  {
   "cell_type": "code",
   "execution_count": 302,
   "metadata": {},
   "outputs": [],
   "source": [
    "df = pd.read_excel('input/youth_survey_raw.xlsx')\n",
    "\n",
    "# get question ids from columns\n",
    "question_ids = [ c for c in df.columns if 'Q' in c ]\n",
    "\n",
    "# copy row 0 to column names\n",
    "df.columns = df.iloc[0]\n",
    "\n",
    "# delete row 0\n",
    "df = df.drop(0, axis=0)\n",
    "df = df.applymap(str)\n",
    "\n"
   ]
  },
  {
   "cell_type": "code",
   "execution_count": 303,
   "metadata": {},
   "outputs": [],
   "source": [
    "# compile list of question_columns - could be neater!\n",
    "question_columns = []\n",
    "\n",
    "for c in df.columns:\n",
    "    for q_id in question_ids:\n",
    "        if q_id in c:\n",
    "            question_columns.append(c)\n"
   ]
  },
  {
   "cell_type": "code",
   "execution_count": 304,
   "metadata": {},
   "outputs": [],
   "source": [
    "# for each Governorate and District pair...\n",
    "# show how many records in this pair\n",
    "# for key, df_ in df.groupby( ['M2: Governorate', 'M3: District'] ):\n",
    "#     print(key)\n",
    "#     print( len(df_) )\n",
    "\n",
    "\n"
   ]
  },
  {
   "cell_type": "code",
   "execution_count": 305,
   "metadata": {},
   "outputs": [],
   "source": [
    "# for each Governorate and District pair...\n",
    "# show answers to questions\n",
    "# M2: Governorate\n",
    "# M3: District\n",
    "\n",
    "def makeJSON(group, kind):\n",
    "    \n",
    "    for key, df_ in df.groupby( [group] ):\n",
    "        overall_data = []\n",
    "        df_ = df_.fillna('N/A')\n",
    "\n",
    "        for q in question_columns:\n",
    "\n",
    "            values_list = []\n",
    "\n",
    "            unique, counts = np.unique(df_[q].values, return_counts=True)\n",
    "\n",
    "            for q_, c in zip(unique, counts):\n",
    "                values = {\"answer\": q_, \"count\": str(c)}\n",
    "                values_list.append(values)\n",
    "\n",
    "\n",
    "            if len(q.split(':')) > 1:\n",
    "                q = q.split(':')[1].strip()\n",
    "\n",
    "            if q != \"Other\":\n",
    "                q_dict = {\n",
    "                    \"gov\": key,\n",
    "                    \"question_en\": q,\n",
    "                    \"values\": values_list\n",
    "                }\n",
    "\n",
    "                overall_data.append(q_dict)\n",
    "\n",
    "\n",
    "            with open('output/'+kind+'/'+key.lower()+'.json', 'w') as outfile:\n",
    "                json.dump(overall_data, outfile)\n",
    "        \n",
    "makeJSON('M2: Governorate', 'gov')\n",
    "makeJSON('M3: District', 'district')"
   ]
  },
  {
   "cell_type": "code",
   "execution_count": null,
   "metadata": {},
   "outputs": [],
   "source": []
  }
 ],
 "metadata": {
  "kernelspec": {
   "display_name": "Python 3",
   "language": "python",
   "name": "python3"
  },
  "language_info": {
   "codemirror_mode": {
    "name": "ipython",
    "version": 3
   },
   "file_extension": ".py",
   "mimetype": "text/x-python",
   "name": "python",
   "nbconvert_exporter": "python",
   "pygments_lexer": "ipython3",
   "version": "3.6.2"
  }
 },
 "nbformat": 4,
 "nbformat_minor": 2
}
