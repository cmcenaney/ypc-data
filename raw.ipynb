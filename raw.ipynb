{
 "cells": [
  {
   "cell_type": "code",
   "execution_count": 253,
   "metadata": {},
   "outputs": [],
   "source": [
    "import xlrd\n",
    "import pandas as pd\n",
    "import numpy as np\n",
    "import json"
   ]
  },
  {
   "cell_type": "code",
   "execution_count": 254,
   "metadata": {},
   "outputs": [],
   "source": [
    "df = pd.read_excel('youth_survey_raw.xlsx')\n",
    "\n",
    "# get question ids from columns\n",
    "question_ids = [ c for c in df.columns if 'Q' in c ]\n",
    "\n",
    "# copy row 0 to column names\n",
    "df.columns = df.iloc[0]\n",
    "\n",
    "# delete row 0\n",
    "df = df.drop(0, axis=0)\n",
    "df = df.applymap(str)\n",
    "\n"
   ]
  },
  {
   "cell_type": "code",
   "execution_count": 255,
   "metadata": {},
   "outputs": [],
   "source": [
    "# compile list of question_columns - could be neater!\n",
    "question_columns = []\n",
    "\n",
    "for c in df.columns:\n",
    "    for q_id in question_ids:\n",
    "        if q_id in c:\n",
    "            question_columns.append(c)\n"
   ]
  },
  {
   "cell_type": "code",
   "execution_count": 256,
   "metadata": {},
   "outputs": [],
   "source": [
    "# for each Governorate and District pair...\n",
    "# show how many records in this pair\n",
    "# for key, df_ in df.groupby( ['M2: Governorate', 'M3: District'] ):\n",
    "#     print(key)\n",
    "#     print( len(df_) )\n",
    "\n",
    "# [\n",
    "# \t{\n",
    "# \t \t\"id\": 16,\n",
    "# \t    \"gov\": \"Abyan\",\n",
    "# \t    \"question_en\": \"First I would like to ask you about your current situation / family situation. How would you rate it on a scale from 1 to 5?\",\n",
    "# \t    \"question_ar\": \"كم من الوقت تقضيه خلال اليوم داخل مؤسسة تعليمية، مدرستك / الجامعة / العمل / التدريب المهني؟\",\n",
    "# \t    \"tag\": \"education\",\n",
    "# \t    \"values\": [\n",
    "# \t    \t{\n",
    "# \t\t    \t\"answer\": \"It's very bad\",\n",
    "# \t\t    \t\"count\": \"2\"\n",
    "# \t    \t},\n",
    "# \t    \t{\n",
    "# \t\t    \t\"answer\": \"It's not so bad\",\n",
    "# \t\t    \t\"count\": \"5\"\n",
    "# \t    \t}\n",
    "# \t    ]\n",
    "# \t}\n",
    "#  ]\n"
   ]
  },
  {
   "cell_type": "code",
   "execution_count": 272,
   "metadata": {},
   "outputs": [],
   "source": [
    "# for each Governorate and District pair...\n",
    "# show answers to questions\n",
    "# M2: Governorate\n",
    "# M3: District\n",
    "\n",
    "overall_data = []\n",
    "for key, df_ in df.groupby( ['M2: Governorate'] ):\n",
    "#     print(key)\n",
    "#     print( len(df_) )\n",
    "#     print()\n",
    "\n",
    "    \n",
    "  \n",
    "    \n",
    "    df_ = df_.fillna('N/A')\n",
    "    for q in question_columns:\n",
    "        \n",
    "       \n",
    "\n",
    "        unique, counts = np.unique(df_[q].values, return_counts=True)\n",
    "        \n",
    "        \n",
    "        values_list = []\n",
    "        for q_, c in zip(unique, counts):\n",
    "          \n",
    "            \n",
    "            values = {\"answer\": q_, \"count\": str(c)}\n",
    "            \n",
    "            values_list.append(values)\n",
    "          \n",
    "\n",
    "#         print (values_list)\n",
    "        \n",
    "        q_dict = {\n",
    "            \"gov\": key,\n",
    "            \"question_en\": q,\n",
    "            \"values\": values_list\n",
    "        }\n",
    "        \n",
    "        overall_data.append(q_dict)\n",
    "\n",
    "\n",
    "\n",
    "\n",
    "with open('results.json', 'w') as outfile:\n",
    "    json.dump(overall_data, outfile)\n",
    "\n",
    "        "
   ]
  },
  {
   "cell_type": "code",
   "execution_count": null,
   "metadata": {},
   "outputs": [],
   "source": []
  }
 ],
 "metadata": {
  "kernelspec": {
   "display_name": "Python 3",
   "language": "python",
   "name": "python3"
  },
  "language_info": {
   "codemirror_mode": {
    "name": "ipython",
    "version": 3
   },
   "file_extension": ".py",
   "mimetype": "text/x-python",
   "name": "python",
   "nbconvert_exporter": "python",
   "pygments_lexer": "ipython3",
   "version": "3.6.2"
  }
 },
 "nbformat": 4,
 "nbformat_minor": 2
}
